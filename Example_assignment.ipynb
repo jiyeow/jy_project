{
 "cells": [
  {
   "cell_type": "markdown",
   "metadata": {},
   "source": [
    "## Example assigment - reproducibility by any user \n",
<<<<<<< HEAD
    "#### The purpose of this program is to allow any users to reproduce the analysis. You may choose to modify or add new data into the raw dataset before analysis. You are asked to analyze and compare nutrient/sediment export from two adjacent agricultural catchments by simply running the program. Discuss the outputs of nitrogen and phosphorus (ignore other analytes). Use total nitrogen (TN) and total phosphorus (TP) for your discussions.\n",
=======
<<<<<<< HEAD
    "#### You are asked to add new monitoring data into the existing dataset, then analyze and compare nutrient/sediment export from two adjacent agricultural catchments. The outputs of the data analysis will be used in the semi-annual reports.\n",
>>>>>>> f9b86cc868f7685d3b0ce98f9b73088e03ac018e
    "\n",
    "1)\tOpen the [main program](https://github.com/jiyeow/jy_project/blob/master/ABE516x_finalproject.ipynb) in Python Notebook. \n",
    "\n",
    "2)\tClick \"restart and run all\".\n",
    "\n",
    "3)\tVisually inspect your data distribution through scatter plots, box plots, and descriptive summaries. If needed, modify (e.g. remove outliers, replace data) your data in “BHL_data” worksheet (just ignore making data modification for this task).\n",
    "\n",
    "4)\tFor this task, simply look at annual comparison of concentrations (box plots) and loads (bar charts), then discuss the following:\n",
    "\n",
<<<<<<< HEAD
    "- Was TN or TP concentration higher in one catchment than the other?\n",
    "- Was TN or TP  load higher in one catchment than the other?\n"
=======
    "https://github.com/jiyeow/jy_project/blob/master/ABE516x_finalproject.ipynb\n",
    "\n",
    "4)\tSummarize the output figures and tables, then discuss the results.\n"
=======
    "#### The purpose of this program is to allow any users to reproduce the analysis. You may choose to modify or add new data into the raw dataset before analysis. You are asked to analyze and compare nutrient/sediment export from two adjacent agricultural catchments by simply running the program. Discuss the outputs of nitrogen and phosphorus (ignore other analytes). Use total nitrogen (TN) and total phosphorus (TP) for your discussions.\n",
    "\n",
    "1)\tOpen the [main program](https://github.com/jiyeow/jy_project/blob/master/ABE516x_finalproject.ipynb) in Python Notebook. \n",
    "\n",
    "2)\tClick \"restart and run all\".\n",
    "\n",
    "3)\tVisually inspect your data distribution through scatter plots, box plots, and descriptive summaries. If needed, modify (e.g. remove outliers, replace data) your data in “BHL_data” worksheet (just ignore making data modification for this task).\n",
    "\n",
    "4)\tFor this task, simply look at annual comparison of concentrations (box plots) and loads (bar charts), then discuss the following:\n",
    "\n",
    "- Was TN or TP concentration higher in one catchment than the other?\n",
    "- Was TN or TP  load higher in one catchment than the other?\n"
>>>>>>> 4770ae61ab58525d06158b47f742b6f8539cbce7
>>>>>>> f9b86cc868f7685d3b0ce98f9b73088e03ac018e
   ]
  },
  {
   "cell_type": "code",
   "execution_count": null,
   "metadata": {},
   "outputs": [],
   "source": []
  }
 ],
 "metadata": {
  "kernelspec": {
   "display_name": "Python 3",
   "language": "python",
   "name": "python3"
  },
  "language_info": {
   "codemirror_mode": {
    "name": "ipython",
    "version": 3
   },
   "file_extension": ".py",
   "mimetype": "text/x-python",
   "name": "python",
   "nbconvert_exporter": "python",
   "pygments_lexer": "ipython3",
   "version": "3.7.3"
  }
 },
 "nbformat": 4,
 "nbformat_minor": 2
}
