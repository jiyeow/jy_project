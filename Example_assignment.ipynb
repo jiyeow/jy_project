{
 "cells": [
  {
   "cell_type": "markdown",
   "metadata": {},
   "source": [
    "## Example assigment - reproducibility by any user \n",
    "#### You are asked to add new monitoring data into the existing dataset, then analyze and compare nutrient/sediment export from two adjacent agricultural catchments. The outputs of the data analysis will be used in the semi-annual reports.\n",
    "\n",
    "1)\tAdd new monitoring data into the last row of the existing dataset in “BHL_data” worksheet. Make sure that the entered data match the title of each column.\n",
    " \n",
    "\n",
    "2)\tDownload weather data by simply running the code below. The program will prompt user to enter start and end date. You will need to enter your own API key (simply change the key in “API_key”)/\n",
    "\n",
    "https://github.com/jiyeow/jy_project/blob/9a1d7c27b8c46ed6c2beee5cf99f4c7b3152cae5/Weather_scrapping.ipynb\n",
    "\n",
    "3)\tPerform data analysis using the code below. You will need to visually inspect your data distribution through scatter plots, box plots, and descriptive summaries. If needed, modify (e.g. remove outliers, replace data) your data in “BHL_data” worksheet.\n",
    "\n",
    "https://github.com/jiyeow/jy_project/blob/master/ABE516x_finalproject.ipynb\n",
    "\n",
    "4)\tSummarize the output figures and tables, then discuss the results.\n"
   ]
  },
  {
   "cell_type": "code",
   "execution_count": null,
   "metadata": {},
   "outputs": [],
   "source": []
  }
 ],
 "metadata": {
  "kernelspec": {
   "display_name": "Python 3",
   "language": "python",
   "name": "python3"
  },
  "language_info": {
   "codemirror_mode": {
    "name": "ipython",
    "version": 3
   },
   "file_extension": ".py",
   "mimetype": "text/x-python",
   "name": "python",
   "nbconvert_exporter": "python",
   "pygments_lexer": "ipython3",
   "version": "3.7.3"
  }
 },
 "nbformat": 4,
 "nbformat_minor": 2
}
