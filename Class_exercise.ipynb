{
 "cells": [
  {
   "cell_type": "markdown",
   "metadata": {},
   "source": [
    "# Example assigment - reproducibility by any user\n",
    "The purpose of this program is to allow any users to reproduce the analysis. You may choose to modify or add new data into the raw dataset before analysis. You are asked to analyze and compare nutrient/sediment export from two adjacent agricultural catchments by simply running the program. Discuss the outputs of nitrogen and phosphorus (ignore other analytes). Use total nitrogen (TN) and total phosphorus (TP) for your discussions.\n",
    "1) Open the main program in Python Notebook.\n",
    "\n",
    "2) Click \"restart and run all\".\n",
    "\n",
    "3) Visually inspect your data distribution through scatter plots, box plots, and descriptive summaries. If needed, modify (e.g. remove outliers, replace data) your data in “BHL_data” worksheet (just ignore making data modification for this task).\n",
    "\n",
    "4) For this task, simply look at annual comparison of concentrations (box plots) and loads (bar charts), then discuss the following:\n",
    "\n",
    "Was TN or TP concentration higher in one catchment than the other?\n",
    "Was TN or TP load higher in one catchment than the other?"
   ]
  }
 ],
 "metadata": {
  "kernelspec": {
   "display_name": "Python 3",
   "language": "python",
   "name": "python3"
  },
  "language_info": {
   "codemirror_mode": {
    "name": "ipython",
    "version": 3
   },
   "file_extension": ".py",
   "mimetype": "text/x-python",
   "name": "python",
   "nbconvert_exporter": "python",
   "pygments_lexer": "ipython3",
   "version": "3.7.3"
  }
 },
 "nbformat": 4,
 "nbformat_minor": 2
}
