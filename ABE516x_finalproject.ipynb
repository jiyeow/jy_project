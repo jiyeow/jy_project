{
 "cells": [
  {
   "cell_type": "markdown",
   "metadata": {},
   "source": [
    "# ABE 516x final project"
   ]
  },
  {
   "cell_type": "markdown",
   "metadata": {},
   "source": [
    "## Brief introduction \n",
    "Our project sponsor requires us to provide a semi-annual updates of our monitoring results. Traditionally, new monitoring data was added into the existing dataset (or modification to existing dataset) and the same analyses were performed manually every six months. This repetitve process consumed a huge amount of time, which then led to the the motivation to automate the process. This goal of this project was to develop a consistent workflow (i.e. reproducibility) to analyze the nutrient and sediment data and the associated parameters (i.e. flow, weather). <br>\n",
    "\n",
    "The following program will allow any users to analyze the datasets using a consistent method, in addition to saving time from analyzing each dataset manually every time a modification is made to the dataset. <br>\n",
    "\n",
    "The questions to be answered in this program are: <br>\n",
    "a) Is analyte concentration higher in one catchment than the other? <br>\n",
    "b) Is analyte load higher in one catchment than the other? <br> \n",
    "c) How does environmental factor (flow, precipitation, and temperature) affect analyte concentration and load? <br>\n",
    "\n",
    "Additional data can be imported and additional analyses may be added in future development."
   ]
  },
  {
   "cell_type": "code",
   "execution_count": 1,
   "metadata": {},
   "outputs": [],
   "source": [
    "import pandas as pd\n",
    "import numpy as np\n",
    "import seaborn as sns\n",
    "%matplotlib inline"
   ]
  },
  {
   "cell_type": "markdown",
   "metadata": {},
   "source": [
    "## Part 1) Gathering data"
   ]
  },
  {
   "cell_type": "code",
   "execution_count": 2,
   "metadata": {},
   "outputs": [
    {
     "data": {
      "text/html": [
       "<div>\n",
       "<style scoped>\n",
       "    .dataframe tbody tr th:only-of-type {\n",
       "        vertical-align: middle;\n",
       "    }\n",
       "\n",
       "    .dataframe tbody tr th {\n",
       "        vertical-align: top;\n",
       "    }\n",
       "\n",
       "    .dataframe thead th {\n",
       "        text-align: right;\n",
       "    }\n",
       "</style>\n",
       "<table border=\"1\" class=\"dataframe\">\n",
       "  <thead>\n",
       "    <tr style=\"text-align: right;\">\n",
       "      <th></th>\n",
       "      <th>Site</th>\n",
       "      <th>Date</th>\n",
       "      <th>Sample type</th>\n",
       "      <th>Flow</th>\n",
       "      <th>DRP</th>\n",
       "      <th>TP</th>\n",
       "      <th>TSS</th>\n",
       "      <th>NOx</th>\n",
       "      <th>TN</th>\n",
       "    </tr>\n",
       "  </thead>\n",
       "  <tbody>\n",
       "    <tr>\n",
       "      <th>0</th>\n",
       "      <td>Sub11</td>\n",
       "      <td>2015-03-20</td>\n",
       "      <td>Base</td>\n",
       "      <td>0.0060</td>\n",
       "      <td>0.020</td>\n",
       "      <td>0.025</td>\n",
       "      <td>1.692308</td>\n",
       "      <td>50.9792</td>\n",
       "      <td>41.6</td>\n",
       "    </tr>\n",
       "    <tr>\n",
       "      <th>1</th>\n",
       "      <td>Sub11</td>\n",
       "      <td>2015-03-27</td>\n",
       "      <td>Base</td>\n",
       "      <td>0.0060</td>\n",
       "      <td>0.020</td>\n",
       "      <td>0.014</td>\n",
       "      <td>0.500000</td>\n",
       "      <td>48.7837</td>\n",
       "      <td>40.8</td>\n",
       "    </tr>\n",
       "    <tr>\n",
       "      <th>2</th>\n",
       "      <td>Sub11</td>\n",
       "      <td>2015-04-03</td>\n",
       "      <td>Base</td>\n",
       "      <td>0.0240</td>\n",
       "      <td>0.001</td>\n",
       "      <td>0.015</td>\n",
       "      <td>1.231527</td>\n",
       "      <td>45.4211</td>\n",
       "      <td>42.8</td>\n",
       "    </tr>\n",
       "    <tr>\n",
       "      <th>3</th>\n",
       "      <td>Sub11</td>\n",
       "      <td>2015-04-11</td>\n",
       "      <td>Base</td>\n",
       "      <td>0.0245</td>\n",
       "      <td>0.012</td>\n",
       "      <td>0.029</td>\n",
       "      <td>7.540395</td>\n",
       "      <td>46.5769</td>\n",
       "      <td>43.0</td>\n",
       "    </tr>\n",
       "    <tr>\n",
       "      <th>4</th>\n",
       "      <td>Sub11</td>\n",
       "      <td>2015-04-17</td>\n",
       "      <td>Base</td>\n",
       "      <td>0.0250</td>\n",
       "      <td>0.001</td>\n",
       "      <td>0.016</td>\n",
       "      <td>1.691729</td>\n",
       "      <td>48.2718</td>\n",
       "      <td>43.0</td>\n",
       "    </tr>\n",
       "  </tbody>\n",
       "</table>\n",
       "</div>"
      ],
      "text/plain": [
       "    Site       Date Sample type    Flow    DRP     TP       TSS      NOx    TN\n",
       "0  Sub11 2015-03-20        Base  0.0060  0.020  0.025  1.692308  50.9792  41.6\n",
       "1  Sub11 2015-03-27        Base  0.0060  0.020  0.014  0.500000  48.7837  40.8\n",
       "2  Sub11 2015-04-03        Base  0.0240  0.001  0.015  1.231527  45.4211  42.8\n",
       "3  Sub11 2015-04-11        Base  0.0245  0.012  0.029  7.540395  46.5769  43.0\n",
       "4  Sub11 2015-04-17        Base  0.0250  0.001  0.016  1.691729  48.2718  43.0"
      ]
     },
     "execution_count": 2,
     "metadata": {},
     "output_type": "execute_result"
    }
   ],
   "source": [
    "# Import nutrient and flow data\n",
    "data = pd.read_excel('BHL_data.xlsx', sheet_name='Data_by_sub')\n",
    "data = data.rename(columns={'Sample date': 'Date', 'Flow (cms)':'Flow', 'DRP (mg P/L)':'DRP', 'TP (mg P/L)':'TP', \n",
    "                            'TSS (mg/L)':'TSS', 'Nitrate (mg/L)':'NOx', 'TN (mg/L)':'TN'})\n",
    "data.head()"
   ]
  },
  {
   "cell_type": "markdown",
   "metadata": {},
   "source": [
    "[See weather scrapping code here](Weather_scrapping.ipynb)"
   ]
  },
  {
   "cell_type": "code",
   "execution_count": 3,
   "metadata": {},
   "outputs": [
    {
     "data": {
      "text/html": [
       "<div>\n",
       "<style scoped>\n",
       "    .dataframe tbody tr th:only-of-type {\n",
       "        vertical-align: middle;\n",
       "    }\n",
       "\n",
       "    .dataframe tbody tr th {\n",
       "        vertical-align: top;\n",
       "    }\n",
       "\n",
       "    .dataframe thead th {\n",
       "        text-align: right;\n",
       "    }\n",
       "</style>\n",
       "<table border=\"1\" class=\"dataframe\">\n",
       "  <thead>\n",
       "    <tr style=\"text-align: right;\">\n",
       "      <th></th>\n",
       "      <th>Date</th>\n",
       "      <th>precipMM</th>\n",
       "      <th>tempC</th>\n",
       "    </tr>\n",
       "  </thead>\n",
       "  <tbody>\n",
       "    <tr>\n",
       "      <th>0</th>\n",
       "      <td>2015-01-01</td>\n",
       "      <td>0.0</td>\n",
       "      <td>-7.375</td>\n",
       "    </tr>\n",
       "    <tr>\n",
       "      <th>1</th>\n",
       "      <td>2015-01-02</td>\n",
       "      <td>0.0</td>\n",
       "      <td>-5.875</td>\n",
       "    </tr>\n",
       "    <tr>\n",
       "      <th>2</th>\n",
       "      <td>2015-01-03</td>\n",
       "      <td>0.0</td>\n",
       "      <td>-4.875</td>\n",
       "    </tr>\n",
       "    <tr>\n",
       "      <th>3</th>\n",
       "      <td>2015-01-04</td>\n",
       "      <td>1.3</td>\n",
       "      <td>-17.375</td>\n",
       "    </tr>\n",
       "    <tr>\n",
       "      <th>4</th>\n",
       "      <td>2015-01-05</td>\n",
       "      <td>0.3</td>\n",
       "      <td>-14.625</td>\n",
       "    </tr>\n",
       "  </tbody>\n",
       "</table>\n",
       "</div>"
      ],
      "text/plain": [
       "         Date  precipMM   tempC\n",
       "0  2015-01-01       0.0  -7.375\n",
       "1  2015-01-02       0.0  -5.875\n",
       "2  2015-01-03       0.0  -4.875\n",
       "3  2015-01-04       1.3 -17.375\n",
       "4  2015-01-05       0.3 -14.625"
      ]
     },
     "execution_count": 3,
     "metadata": {},
     "output_type": "execute_result"
    }
   ],
   "source": [
    "# exporting daily weather data csv file\n",
    "\n",
    "weather_data = pd.read_csv('BHL_weather_data.csv')\n",
    "weather_data.head()"
   ]
  },
  {
   "cell_type": "markdown",
   "metadata": {},
   "source": [
    "## Part 2: Preliminary analysis"
   ]
  },
  {
   "cell_type": "code",
   "execution_count": 4,
   "metadata": {},
   "outputs": [],
   "source": [
    "# Split nutrient/flow dataset by site\n",
    "data_11 = data[data['Site'] == 'Sub11']\n",
    "data_12 = data[data['Site'] == 'Sub12']"
   ]
  },
  {
   "cell_type": "markdown",
   "metadata": {},
   "source": [
    "### Time series plots"
   ]
  },
  {
   "cell_type": "code",
   "execution_count": 5,
   "metadata": {},
   "outputs": [
    {
     "name": "stderr",
     "output_type": "stream",
     "text": [
      "C:\\Users\\jiyeow\\AppData\\Local\\Continuum\\anaconda3\\lib\\site-packages\\pandas\\plotting\\_converter.py:129: FutureWarning: Using an implicitly registered datetime converter for a matplotlib plotting method. The converter was registered by pandas on import. Future versions of pandas will require you to explicitly register matplotlib converters.\n",
      "\n",
      "To register the converters:\n",
      "\t>>> from pandas.plotting import register_matplotlib_converters\n",
      "\t>>> register_matplotlib_converters()\n",
      "  warnings.warn(msg, FutureWarning)\n"
     ]
    },
    {
     "data": {
      "image/png": "[encoded data removed]",
      "text/plain": [
       "<Figure size 1080x1080 with 10 Axes>"
      ]
     },
     "metadata": {
      "needs_background": "light"
     },
     "output_type": "display_data"
    }
   ],
   "source": [
    "import matplotlib.pyplot as plt\n",
    "\n",
    "list_of_analytes = ['DRP', 'TP', 'TSS', 'NOx', 'TN']\n",
    "i = 1\n",
    "\n",
    "fig = plt.figure(figsize=(15,15))\n",
    "#fig.subplots_adjust(bottom = 0)\n",
    "\n",
    "for x in list_of_analytes:\n",
    "    ax = fig.add_subplot(5,2,i)\n",
    "    plt.scatter(data_11['Date'],data_11[x])\n",
    "    plt.title('sub11')\n",
    "    plt.xlabel('Date')\n",
    "    plt.xticks(rotation=45)\n",
    "    plt.ylabel(x + ' (mg/L)')\n",
    "    i = i + 1\n",
    "    \n",
    "    ax = fig.add_subplot(5,2,i)\n",
    "    plt.scatter(data_12['Date'],data_12[x])\n",
    "    plt.title('sub12')\n",
    "    plt.xlabel('Date')\n",
    "    plt.xticks(rotation=45)\n",
    "    plt.ylabel(x + ' (mg/L)')\n",
    "    i = i + 1\n",
    "\n",
    "fig.tight_layout(pad=0.4, w_pad=0.5, h_pad=1.0)\n",
    "plt.show()"
   ]
  },
  {
   "cell_type": "markdown",
   "metadata": {},
   "source": [
    "### Descriptive analysis (all years)"
   ]
  },
  {
   "cell_type": "code",
   "execution_count": 6,
   "metadata": {},
   "outputs": [
    {
     "data": {
      "image/png": "[encoded data removed]",
      "text/plain": [
       "<Figure size 432x288 with 1 Axes>"
      ]
     },
     "metadata": {
      "needs_background": "light"
     },
     "output_type": "display_data"
    },
    {
     "data": {
      "image/png": "[encoded data removed]",
      "text/plain": [
       "<Figure size 432x288 with 1 Axes>"
      ]
     },
     "metadata": {
      "needs_background": "light"
     },
     "output_type": "display_data"
    },
    {
     "data": {
      "image/png": "[encoded data removed]",
      "text/plain": [
       "<Figure size 432x288 with 1 Axes>"
      ]
     },
     "metadata": {
      "needs_background": "light"
     },
     "output_type": "display_data"
    },
    {
     "data": {
      "image/png": "[encoded data removed]",
      "text/plain": [
       "<Figure size 432x288 with 1 Axes>"
      ]
     },
     "metadata": {
      "needs_background": "light"
     },
     "output_type": "display_data"
    },
    {
     "data": {
      "image/png": "[encoded data removed]",
      "text/plain": [
       "<Figure size 432x288 with 1 Axes>"
      ]
     },
     "metadata": {
      "needs_background": "light"
     },
     "output_type": "display_data"
    }
   ],
   "source": [
    "# quick snapshot on the dataset\n",
    "list_of_analytes = ['DRP', 'TP', 'TSS', 'NOx', 'TN']\n",
    "\n",
    "for x in list_of_analytes:\n",
    "    ax = sns.boxplot(x='Site', y=x, data=data)\n",
    "    plt.show()"
   ]
  },
  {
   "cell_type": "code",
   "execution_count": 7,
   "metadata": {},
   "outputs": [
    {
     "data": {
      "text/html": [
       "<div>\n",
       "<style scoped>\n",
       "    .dataframe tbody tr th:only-of-type {\n",
       "        vertical-align: middle;\n",
       "    }\n",
       "\n",
       "    .dataframe tbody tr th {\n",
       "        vertical-align: top;\n",
       "    }\n",
       "\n",
       "    .dataframe thead th {\n",
       "        text-align: right;\n",
       "    }\n",
       "</style>\n",
       "<table border=\"1\" class=\"dataframe\">\n",
       "  <thead>\n",
       "    <tr style=\"text-align: right;\">\n",
       "      <th></th>\n",
       "      <th>Flow</th>\n",
       "      <th>DRP</th>\n",
       "      <th>TP</th>\n",
       "      <th>TSS</th>\n",
       "      <th>NOx</th>\n",
       "      <th>TN</th>\n",
       "    </tr>\n",
       "  </thead>\n",
       "  <tbody>\n",
       "    <tr>\n",
       "      <th>count</th>\n",
       "      <td>111.000000</td>\n",
       "      <td>111.000000</td>\n",
       "      <td>111.000000</td>\n",
       "      <td>111.000000</td>\n",
       "      <td>111.000000</td>\n",
       "      <td>111.000000</td>\n",
       "    </tr>\n",
       "    <tr>\n",
       "      <th>mean</th>\n",
       "      <td>0.068453</td>\n",
       "      <td>0.018279</td>\n",
       "      <td>0.238041</td>\n",
       "      <td>396.900882</td>\n",
       "      <td>28.320551</td>\n",
       "      <td>30.174996</td>\n",
       "    </tr>\n",
       "    <tr>\n",
       "      <th>std</th>\n",
       "      <td>0.135658</td>\n",
       "      <td>0.050381</td>\n",
       "      <td>0.463947</td>\n",
       "      <td>1544.040251</td>\n",
       "      <td>9.923801</td>\n",
       "      <td>9.230618</td>\n",
       "    </tr>\n",
       "    <tr>\n",
       "      <th>min</th>\n",
       "      <td>0.000000</td>\n",
       "      <td>0.001000</td>\n",
       "      <td>0.001500</td>\n",
       "      <td>0.500000</td>\n",
       "      <td>3.051000</td>\n",
       "      <td>12.435000</td>\n",
       "    </tr>\n",
       "    <tr>\n",
       "      <th>25%</th>\n",
       "      <td>0.018121</td>\n",
       "      <td>0.001000</td>\n",
       "      <td>0.021500</td>\n",
       "      <td>8.333333</td>\n",
       "      <td>22.606350</td>\n",
       "      <td>23.841000</td>\n",
       "    </tr>\n",
       "    <tr>\n",
       "      <th>50%</th>\n",
       "      <td>0.036419</td>\n",
       "      <td>0.005000</td>\n",
       "      <td>0.047000</td>\n",
       "      <td>22.000000</td>\n",
       "      <td>25.850500</td>\n",
       "      <td>28.686000</td>\n",
       "    </tr>\n",
       "    <tr>\n",
       "      <th>75%</th>\n",
       "      <td>0.073765</td>\n",
       "      <td>0.019000</td>\n",
       "      <td>0.190000</td>\n",
       "      <td>116.500000</td>\n",
       "      <td>33.813550</td>\n",
       "      <td>37.663000</td>\n",
       "    </tr>\n",
       "    <tr>\n",
       "      <th>max</th>\n",
       "      <td>1.296460</td>\n",
       "      <td>0.475000</td>\n",
       "      <td>3.118000</td>\n",
       "      <td>11166.000000</td>\n",
       "      <td>50.979200</td>\n",
       "      <td>49.800000</td>\n",
       "    </tr>\n",
       "  </tbody>\n",
       "</table>\n",
       "</div>"
      ],
      "text/plain": [
       "             Flow         DRP          TP           TSS         NOx  \\\n",
       "count  111.000000  111.000000  111.000000    111.000000  111.000000   \n",
       "mean     0.068453    0.018279    0.238041    396.900882   28.320551   \n",
       "std      0.135658    0.050381    0.463947   1544.040251    9.923801   \n",
       "min      0.000000    0.001000    0.001500      0.500000    3.051000   \n",
       "25%      0.018121    0.001000    0.021500      8.333333   22.606350   \n",
       "50%      0.036419    0.005000    0.047000     22.000000   25.850500   \n",
       "75%      0.073765    0.019000    0.190000    116.500000   33.813550   \n",
       "max      1.296460    0.475000    3.118000  11166.000000   50.979200   \n",
       "\n",
       "               TN  \n",
       "count  111.000000  \n",
       "mean    30.174996  \n",
       "std      9.230618  \n",
       "min     12.435000  \n",
       "25%     23.841000  \n",
       "50%     28.686000  \n",
       "75%     37.663000  \n",
       "max     49.800000  "
      ]
     },
     "execution_count": 7,
     "metadata": {},
     "output_type": "execute_result"
    }
   ],
   "source": [
    "data_11.describe()"
   ]
  },
  {
   "cell_type": "code",
   "execution_count": 8,
   "metadata": {},
   "outputs": [
    {
     "data": {
      "text/html": [
       "<div>\n",
       "<style scoped>\n",
       "    .dataframe tbody tr th:only-of-type {\n",
       "        vertical-align: middle;\n",
       "    }\n",
       "\n",
       "    .dataframe tbody tr th {\n",
       "        vertical-align: top;\n",
       "    }\n",
       "\n",
       "    .dataframe thead th {\n",
       "        text-align: right;\n",
       "    }\n",
       "</style>\n",
       "<table border=\"1\" class=\"dataframe\">\n",
       "  <thead>\n",
       "    <tr style=\"text-align: right;\">\n",
       "      <th></th>\n",
       "      <th>Flow</th>\n",
       "      <th>DRP</th>\n",
       "      <th>TP</th>\n",
       "      <th>TSS</th>\n",
       "      <th>NOx</th>\n",
       "      <th>TN</th>\n",
       "    </tr>\n",
       "  </thead>\n",
       "  <tbody>\n",
       "    <tr>\n",
       "      <th>count</th>\n",
       "      <td>129.000000</td>\n",
       "      <td>129.000000</td>\n",
       "      <td>129.000000</td>\n",
       "      <td>129.000000</td>\n",
       "      <td>129.000000</td>\n",
       "      <td>129.000000</td>\n",
       "    </tr>\n",
       "    <tr>\n",
       "      <th>mean</th>\n",
       "      <td>0.057473</td>\n",
       "      <td>0.028008</td>\n",
       "      <td>0.103682</td>\n",
       "      <td>41.648837</td>\n",
       "      <td>8.755039</td>\n",
       "      <td>9.546512</td>\n",
       "    </tr>\n",
       "    <tr>\n",
       "      <th>std</th>\n",
       "      <td>0.072552</td>\n",
       "      <td>0.053944</td>\n",
       "      <td>0.194234</td>\n",
       "      <td>204.343583</td>\n",
       "      <td>3.330117</td>\n",
       "      <td>3.501898</td>\n",
       "    </tr>\n",
       "    <tr>\n",
       "      <th>min</th>\n",
       "      <td>0.002000</td>\n",
       "      <td>0.001000</td>\n",
       "      <td>0.002000</td>\n",
       "      <td>0.500000</td>\n",
       "      <td>0.000000</td>\n",
       "      <td>0.900000</td>\n",
       "    </tr>\n",
       "    <tr>\n",
       "      <th>25%</th>\n",
       "      <td>0.020000</td>\n",
       "      <td>0.002000</td>\n",
       "      <td>0.025000</td>\n",
       "      <td>4.300000</td>\n",
       "      <td>7.200000</td>\n",
       "      <td>7.600000</td>\n",
       "    </tr>\n",
       "    <tr>\n",
       "      <th>50%</th>\n",
       "      <td>0.035000</td>\n",
       "      <td>0.008000</td>\n",
       "      <td>0.040000</td>\n",
       "      <td>8.900000</td>\n",
       "      <td>8.800000</td>\n",
       "      <td>9.200000</td>\n",
       "    </tr>\n",
       "    <tr>\n",
       "      <th>75%</th>\n",
       "      <td>0.068000</td>\n",
       "      <td>0.027000</td>\n",
       "      <td>0.098000</td>\n",
       "      <td>21.700000</td>\n",
       "      <td>10.600000</td>\n",
       "      <td>11.600000</td>\n",
       "    </tr>\n",
       "    <tr>\n",
       "      <th>max</th>\n",
       "      <td>0.555000</td>\n",
       "      <td>0.316000</td>\n",
       "      <td>1.535000</td>\n",
       "      <td>2284.400000</td>\n",
       "      <td>15.200000</td>\n",
       "      <td>20.700000</td>\n",
       "    </tr>\n",
       "  </tbody>\n",
       "</table>\n",
       "</div>"
      ],
      "text/plain": [
       "             Flow         DRP          TP          TSS         NOx          TN\n",
       "count  129.000000  129.000000  129.000000   129.000000  129.000000  129.000000\n",
       "mean     0.057473    0.028008    0.103682    41.648837    8.755039    9.546512\n",
       "std      0.072552    0.053944    0.194234   204.343583    3.330117    3.501898\n",
       "min      0.002000    0.001000    0.002000     0.500000    0.000000    0.900000\n",
       "25%      0.020000    0.002000    0.025000     4.300000    7.200000    7.600000\n",
       "50%      0.035000    0.008000    0.040000     8.900000    8.800000    9.200000\n",
       "75%      0.068000    0.027000    0.098000    21.700000   10.600000   11.600000\n",
       "max      0.555000    0.316000    1.535000  2284.400000   15.200000   20.700000"
      ]
     },
     "execution_count": 8,
     "metadata": {},
     "output_type": "execute_result"
    }
   ],
   "source": [
    "data_12.describe()"
   ]
  },
  {
   "cell_type": "markdown",
   "metadata": {},
   "source": [
    "### Descriptive analysis (individual years)"
   ]
  },
  {
   "cell_type": "code",
   "execution_count": 9,
   "metadata": {},
   "outputs": [
    {
     "data": {
      "image/png": "[encoded data removed]",
      "text/plain": [
       "<Figure size 432x288 with 1 Axes>"
      ]
     },
     "metadata": {
      "needs_background": "light"
     },
     "output_type": "display_data"
    },
    {
     "data": {
      "image/png": "[encoded data removed]",
      "text/plain": [
       "<Figure size 432x288 with 1 Axes>"
      ]
     },
     "metadata": {
      "needs_background": "light"
     },
     "output_type": "display_data"
    },
    {
     "data": {
      "image/png": "[encoded data removed]",
      "text/plain": [
       "<Figure size 432x288 with 1 Axes>"
      ]
     },
     "metadata": {
      "needs_background": "light"
     },
     "output_type": "display_data"
    },
    {
     "data": {
      "image/png": "[encoded data removed]",
      "text/plain": [
       "<Figure size 432x288 with 1 Axes>"
      ]
     },
     "metadata": {
      "needs_background": "light"
     },
     "output_type": "display_data"
    },
    {
     "data": {
      "image/png": "[encoded data removed]",
      "text/plain": [
       "<Figure size 432x288 with 1 Axes>"
      ]
     },
     "metadata": {
      "needs_background": "light"
     },
     "output_type": "display_data"
    }
   ],
   "source": [
    "import datetime as dt\n",
    "# extract year from date\n",
    "\n",
    "data['Year'] = pd.DatetimeIndex(data['Date']).year\n",
    "list_of_analytes = ['DRP', 'TP', 'TSS', 'NOx', 'TN']\n",
    "\n",
    "for x in list_of_analytes:\n",
    "    ax = sns.boxplot(x='Year', y=x, data=data, hue='Site')\n",
    "    plt.show()"
   ]
  },
  {
   "cell_type": "code",
   "execution_count": 10,
   "metadata": {},
   "outputs": [
    {
     "name": "stdout",
     "output_type": "stream",
     "text": [
      "Choose sub11 or sub 12:sub12\n",
      "       DRP                                                 \n",
      "     count   mean    std    min    25%    50%    75%    max\n",
      "Year                                                       \n",
      "2015  45.0  0.025  0.052  0.001  0.003  0.007  0.025  0.316\n",
      "2016  31.0  0.014  0.032  0.001  0.001  0.002  0.010  0.143\n",
      "2017  23.0  0.050  0.083  0.001  0.007  0.023  0.036  0.301\n",
      "2018  30.0  0.031  0.044  0.001  0.003  0.014  0.028  0.156\n",
      "        TP                                                 \n",
      "     count   mean    std    min    25%    50%    75%    max\n",
      "Year                                                       \n",
      "2015  45.0  0.064  0.073  0.002  0.021  0.038  0.069  0.352\n",
      "2016  31.0  0.102  0.161  0.010  0.029  0.045  0.105  0.846\n",
      "2017  23.0  0.155  0.241  0.004  0.028  0.057  0.154  1.047\n",
      "2018  30.0  0.125  0.287  0.006  0.020  0.040  0.074  1.535\n",
      "       TSS                                                   \n",
      "     count     mean      std  min   25%   50%     75%     max\n",
      "Year                                                         \n",
      "2015  45.0   16.680   38.246  0.5  1.40   4.8  15.000   244.0\n",
      "2016  31.0   17.158   20.058  0.5  7.35  11.4  19.900   108.0\n",
      "2017  23.0   30.583   54.747  0.5  2.95  12.4  19.800   201.7\n",
      "2018  30.0  112.893  415.256  0.5  6.25  13.1  36.425  2284.4\n",
      "       NOx                                            \n",
      "     count   mean    std  min   25%   50%    75%   max\n",
      "Year                                                  \n",
      "2015  45.0  9.776  4.104  1.8  6.30  10.9  12.90  15.2\n",
      "2016  31.0  8.139  2.280  2.1  7.00   8.6   9.45  12.5\n",
      "2017  23.0  8.200  3.647  0.0  7.65   9.6  10.50  13.1\n",
      "2018  30.0  8.287  2.329  1.8  7.50   8.2   8.80  14.4\n",
      "        TN                                               \n",
      "     count    mean    std  min    25%   50%     75%   max\n",
      "Year                                                     \n",
      "2015  45.0   9.958  3.291  4.3  7.300  10.1  12.400  15.6\n",
      "2016  31.0   8.019  1.935  3.3  6.500   8.1   9.500  11.6\n",
      "2017  23.0  10.691  5.586  0.9  7.150  10.5  14.950  20.7\n",
      "2018  30.0   9.630  2.518  5.4  8.225   8.9   9.975  18.7\n"
     ]
    }
   ],
   "source": [
    "# I will  not show the mean, median, std of each subdataset because there are too many to show (total of 40)\n",
    "# If user desires to know the basic stats of all years for a particular site and analyte, \n",
    "# the person can use the following prompt box\n",
    "# each output will show the annual summary of all analytes for the chosen site\n",
    "\n",
    "user_site = input(\"Choose sub11 or sub 12:\")\n",
    "\n",
    "\n",
    "if user_site == 'sub11':\n",
    "    user_data = data[data['Site']=='Sub11']\n",
    "    for x in list_of_analytes:\n",
    "        user_data_analyte = user_data[[x,'Year']]\n",
    "        output = user_data_analyte.groupby('Year').describe()\n",
    "        output = output.round(3)\n",
    "        print(output)\n",
    "elif user_site == 'sub12':\n",
    "    user_data = data[data['Site']=='Sub12']\n",
    "    for x in list_of_analytes:\n",
    "        user_data_analyte = user_data[[x,'Year']]\n",
    "        output = user_data_analyte.groupby('Year').describe()\n",
    "        output = output.round(3)\n",
    "        print(output)\n",
    "    "
   ]
  },
  {
   "cell_type": "markdown",
   "metadata": {},
   "source": [
    "## Part 3: Data analysis\n",
    "### Data analysis outputs should include:\n",
    "__a) Load calculation__ <br>\n",
    "This will answer the question \"was analyte load higher in one catchment than the other\". <br>\n",
    "\n",
    "__b) T-test or Wilcoxon test__ <br>\n",
    "This will help to answer \"was analyte concentration higher in one catchment than the other\". <br>\n",
    "\n",
    "__c) Dimension reduction__ <br>\n",
    "This will help to eliminate the auxiliary parameters that had little impact on responding variables (i.e. analyte concentration). If a parameter had little impact, it will not be analyzed for its correlation with the responding variables. <br>\n",
    "Note that this step was not really necessary because we only had three auxiliary parameters, but it will help when we want to bring in more parameters for testing in the future.\n",
    "\n"
   ]
  },
  {
   "cell_type": "markdown",
   "metadata": {},
   "source": [
    "### Part 3A: Load calculation"
   ]
  },
  {
   "cell_type": "code",
   "execution_count": 11,
   "metadata": {},
   "outputs": [
    {
     "data": {
      "text/html": [
       "<div>\n",
       "<style scoped>\n",
       "    .dataframe tbody tr th:only-of-type {\n",
       "        vertical-align: middle;\n",
       "    }\n",
       "\n",
       "    .dataframe tbody tr th {\n",
       "        vertical-align: top;\n",
       "    }\n",
       "\n",
       "    .dataframe thead th {\n",
       "        text-align: right;\n",
       "    }\n",
       "</style>\n",
       "<table border=\"1\" class=\"dataframe\">\n",
       "  <thead>\n",
       "    <tr style=\"text-align: right;\">\n",
       "      <th></th>\n",
       "      <th>Site</th>\n",
       "      <th>Date</th>\n",
       "      <th>Sample type</th>\n",
       "      <th>Flow</th>\n",
       "      <th>DRP</th>\n",
       "      <th>TP</th>\n",
       "      <th>TSS</th>\n",
       "      <th>NOx</th>\n",
       "      <th>TN</th>\n",
       "      <th>Year</th>\n",
       "    </tr>\n",
       "  </thead>\n",
       "  <tbody>\n",
       "    <tr>\n",
       "      <th>0</th>\n",
       "      <td>Sub11</td>\n",
       "      <td>2015-03-20</td>\n",
       "      <td>Base</td>\n",
       "      <td>0.0060</td>\n",
       "      <td>0.020</td>\n",
       "      <td>0.025</td>\n",
       "      <td>1.692308</td>\n",
       "      <td>50.9792</td>\n",
       "      <td>41.6</td>\n",
       "      <td>2015</td>\n",
       "    </tr>\n",
       "    <tr>\n",
       "      <th>1</th>\n",
       "      <td>Sub11</td>\n",
       "      <td>2015-03-27</td>\n",
       "      <td>Base</td>\n",
       "      <td>0.0060</td>\n",
       "      <td>0.020</td>\n",
       "      <td>0.014</td>\n",
       "      <td>0.500000</td>\n",
       "      <td>48.7837</td>\n",
       "      <td>40.8</td>\n",
       "      <td>2015</td>\n",
       "    </tr>\n",
       "    <tr>\n",
       "      <th>2</th>\n",
       "      <td>Sub11</td>\n",
       "      <td>2015-04-03</td>\n",
       "      <td>Base</td>\n",
       "      <td>0.0240</td>\n",
       "      <td>0.001</td>\n",
       "      <td>0.015</td>\n",
       "      <td>1.231527</td>\n",
       "      <td>45.4211</td>\n",
       "      <td>42.8</td>\n",
       "      <td>2015</td>\n",
       "    </tr>\n",
       "    <tr>\n",
       "      <th>3</th>\n",
       "      <td>Sub11</td>\n",
       "      <td>2015-04-11</td>\n",
       "      <td>Base</td>\n",
       "      <td>0.0245</td>\n",
       "      <td>0.012</td>\n",
       "      <td>0.029</td>\n",
       "      <td>7.540395</td>\n",
       "      <td>46.5769</td>\n",
       "      <td>43.0</td>\n",
       "      <td>2015</td>\n",
       "    </tr>\n",
       "    <tr>\n",
       "      <th>4</th>\n",
       "      <td>Sub11</td>\n",
       "      <td>2015-04-17</td>\n",
       "      <td>Base</td>\n",
       "      <td>0.0250</td>\n",
       "      <td>0.001</td>\n",
       "      <td>0.016</td>\n",
       "      <td>1.691729</td>\n",
       "      <td>48.2718</td>\n",
       "      <td>43.0</td>\n",
       "      <td>2015</td>\n",
       "    </tr>\n",
       "  </tbody>\n",
       "</table>\n",
       "</div>"
      ],
      "text/plain": [
       "    Site       Date Sample type    Flow    DRP     TP       TSS      NOx  \\\n",
       "0  Sub11 2015-03-20        Base  0.0060  0.020  0.025  1.692308  50.9792   \n",
       "1  Sub11 2015-03-27        Base  0.0060  0.020  0.014  0.500000  48.7837   \n",
       "2  Sub11 2015-04-03        Base  0.0240  0.001  0.015  1.231527  45.4211   \n",
       "3  Sub11 2015-04-11        Base  0.0245  0.012  0.029  7.540395  46.5769   \n",
       "4  Sub11 2015-04-17        Base  0.0250  0.001  0.016  1.691729  48.2718   \n",
       "\n",
       "     TN  Year  \n",
       "0  41.6  2015  \n",
       "1  40.8  2015  \n",
       "2  42.8  2015  \n",
       "3  43.0  2015  \n",
       "4  43.0  2015  "
      ]
     },
     "execution_count": 11,
     "metadata": {},
     "output_type": "execute_result"
    }
   ],
   "source": [
    "data.head()"
   ]
  },
  {
   "cell_type": "code",
   "execution_count": 12,
   "metadata": {},
   "outputs": [
    {
     "data": {
      "text/html": [
       "<div>\n",
       "<style scoped>\n",
       "    .dataframe tbody tr th:only-of-type {\n",
       "        vertical-align: middle;\n",
       "    }\n",
       "\n",
       "    .dataframe tbody tr th {\n",
       "        vertical-align: top;\n",
       "    }\n",
       "\n",
       "    .dataframe thead th {\n",
       "        text-align: right;\n",
       "    }\n",
       "</style>\n",
       "<table border=\"1\" class=\"dataframe\">\n",
       "  <thead>\n",
       "    <tr style=\"text-align: right;\">\n",
       "      <th></th>\n",
       "      <th>Site</th>\n",
       "      <th>Date</th>\n",
       "      <th>Sample type</th>\n",
       "      <th>Flow</th>\n",
       "      <th>DRP</th>\n",
       "      <th>TP</th>\n",
       "      <th>TSS</th>\n",
       "      <th>NOx</th>\n",
       "      <th>TN</th>\n",
       "      <th>Year</th>\n",
       "    </tr>\n",
       "  </thead>\n",
       "  <tbody>\n",
       "    <tr>\n",
       "      <th>31</th>\n",
       "      <td>Sub11</td>\n",
       "      <td>2016-03-31</td>\n",
       "      <td>Base</td>\n",
       "      <td>0.025511</td>\n",
       "      <td>0.001</td>\n",
       "      <td>0.293</td>\n",
       "      <td>18.666667</td>\n",
       "      <td>35.3001</td>\n",
       "      <td>34.2560</td>\n",
       "      <td>2016</td>\n",
       "    </tr>\n",
       "    <tr>\n",
       "      <th>32</th>\n",
       "      <td>Sub11</td>\n",
       "      <td>2016-04-14</td>\n",
       "      <td>Base</td>\n",
       "      <td>0.041794</td>\n",
       "      <td>0.013</td>\n",
       "      <td>0.040</td>\n",
       "      <td>2.000000</td>\n",
       "      <td>31.7656</td>\n",
       "      <td>31.7656</td>\n",
       "      <td>2016</td>\n",
       "    </tr>\n",
       "    <tr>\n",
       "      <th>33</th>\n",
       "      <td>Sub11</td>\n",
       "      <td>2016-04-28</td>\n",
       "      <td>Base</td>\n",
       "      <td>0.078278</td>\n",
       "      <td>0.001</td>\n",
       "      <td>0.129</td>\n",
       "      <td>39.333333</td>\n",
       "      <td>30.5188</td>\n",
       "      <td>30.3610</td>\n",
       "      <td>2016</td>\n",
       "    </tr>\n",
       "    <tr>\n",
       "      <th>34</th>\n",
       "      <td>Sub11</td>\n",
       "      <td>2016-05-17</td>\n",
       "      <td>Base</td>\n",
       "      <td>0.064980</td>\n",
       "      <td>0.001</td>\n",
       "      <td>0.177</td>\n",
       "      <td>63.333333</td>\n",
       "      <td>22.9285</td>\n",
       "      <td>23.2680</td>\n",
       "      <td>2016</td>\n",
       "    </tr>\n",
       "    <tr>\n",
       "      <th>35</th>\n",
       "      <td>Sub11</td>\n",
       "      <td>2016-05-17</td>\n",
       "      <td>Base</td>\n",
       "      <td>0.064980</td>\n",
       "      <td>0.001</td>\n",
       "      <td>0.177</td>\n",
       "      <td>63.333333</td>\n",
       "      <td>22.9285</td>\n",
       "      <td>23.2680</td>\n",
       "      <td>2016</td>\n",
       "    </tr>\n",
       "  </tbody>\n",
       "</table>\n",
       "</div>"
      ],
      "text/plain": [
       "     Site       Date Sample type      Flow    DRP     TP        TSS      NOx  \\\n",
       "31  Sub11 2016-03-31        Base  0.025511  0.001  0.293  18.666667  35.3001   \n",
       "32  Sub11 2016-04-14        Base  0.041794  0.013  0.040   2.000000  31.7656   \n",
       "33  Sub11 2016-04-28        Base  0.078278  0.001  0.129  39.333333  30.5188   \n",
       "34  Sub11 2016-05-17        Base  0.064980  0.001  0.177  63.333333  22.9285   \n",
       "35  Sub11 2016-05-17        Base  0.064980  0.001  0.177  63.333333  22.9285   \n",
       "\n",
       "         TN  Year  \n",
       "31  34.2560  2016  \n",
       "32  31.7656  2016  \n",
       "33  30.3610  2016  \n",
       "34  23.2680  2016  \n",
       "35  23.2680  2016  "
      ]
     },
     "execution_count": 12,
     "metadata": {},
     "output_type": "execute_result"
    }
   ],
   "source": [
    "# calculate the annual load of all years, except 2015\n",
    "# only keep rows for year 2016, 2017, and 2018\n",
    "data_load = data[data['Year'] > 2015]\n",
    "data_load.head()"
   ]
  },
  {
   "cell_type": "code",
   "execution_count": 13,
   "metadata": {},
   "outputs": [
    {
     "name": "stderr",
     "output_type": "stream",
     "text": [
      "C:\\Users\\jiyeow\\AppData\\Local\\Continuum\\anaconda3\\lib\\site-packages\\ipykernel_launcher.py:5: SettingWithCopyWarning: \n",
      "A value is trying to be set on a copy of a slice from a DataFrame.\n",
      "Try using .loc[row_indexer,col_indexer] = value instead\n",
      "\n",
      "See the caveats in the documentation: http://pandas.pydata.org/pandas-docs/stable/indexing.html#indexing-view-versus-copy\n",
      "  \"\"\"\n"
     ]
    },
    {
     "data": {
      "text/html": [
       "<div>\n",
       "<style scoped>\n",
       "    .dataframe tbody tr th:only-of-type {\n",
       "        vertical-align: middle;\n",
       "    }\n",
       "\n",
       "    .dataframe tbody tr th {\n",
       "        vertical-align: top;\n",
       "    }\n",
       "\n",
       "    .dataframe thead th {\n",
       "        text-align: right;\n",
       "    }\n",
       "</style>\n",
       "<table border=\"1\" class=\"dataframe\">\n",
       "  <thead>\n",
       "    <tr style=\"text-align: right;\">\n",
       "      <th></th>\n",
       "      <th>Site</th>\n",
       "      <th>Date</th>\n",
       "      <th>Sample type</th>\n",
       "      <th>Flow</th>\n",
       "      <th>Year</th>\n",
       "      <th>DRP_load</th>\n",
       "      <th>TP_load</th>\n",
       "      <th>TSS_load</th>\n",
       "      <th>NOx_load</th>\n",
       "      <th>TN_load</th>\n",
       "    </tr>\n",
       "  </thead>\n",
       "  <tbody>\n",
       "    <tr>\n",
       "      <th>31</th>\n",
       "      <td>Sub11</td>\n",
       "      <td>2016-03-31</td>\n",
       "      <td>Base</td>\n",
       "      <td>0.025511</td>\n",
       "      <td>2016</td>\n",
       "      <td>0.000026</td>\n",
       "      <td>0.007475</td>\n",
       "      <td>0.476207</td>\n",
       "      <td>0.900545</td>\n",
       "      <td>0.873909</td>\n",
       "    </tr>\n",
       "    <tr>\n",
       "      <th>32</th>\n",
       "      <td>Sub11</td>\n",
       "      <td>2016-04-14</td>\n",
       "      <td>Base</td>\n",
       "      <td>0.041794</td>\n",
       "      <td>2016</td>\n",
       "      <td>0.000543</td>\n",
       "      <td>0.001672</td>\n",
       "      <td>0.083589</td>\n",
       "      <td>1.327621</td>\n",
       "      <td>1.327621</td>\n",
       "    </tr>\n",
       "    <tr>\n",
       "      <th>33</th>\n",
       "      <td>Sub11</td>\n",
       "      <td>2016-04-28</td>\n",
       "      <td>Base</td>\n",
       "      <td>0.078278</td>\n",
       "      <td>2016</td>\n",
       "      <td>0.000078</td>\n",
       "      <td>0.010098</td>\n",
       "      <td>3.078926</td>\n",
       "      <td>2.388944</td>\n",
       "      <td>2.376592</td>\n",
       "    </tr>\n",
       "    <tr>\n",
       "      <th>34</th>\n",
       "      <td>Sub11</td>\n",
       "      <td>2016-05-17</td>\n",
       "      <td>Base</td>\n",
       "      <td>0.064980</td>\n",
       "      <td>2016</td>\n",
       "      <td>0.000065</td>\n",
       "      <td>0.011501</td>\n",
       "      <td>4.115410</td>\n",
       "      <td>1.489898</td>\n",
       "      <td>1.511958</td>\n",
       "    </tr>\n",
       "    <tr>\n",
       "      <th>35</th>\n",
       "      <td>Sub11</td>\n",
       "      <td>2016-05-17</td>\n",
       "      <td>Base</td>\n",
       "      <td>0.064980</td>\n",
       "      <td>2016</td>\n",
       "      <td>0.000065</td>\n",
       "      <td>0.011501</td>\n",
       "      <td>4.115410</td>\n",
       "      <td>1.489898</td>\n",
       "      <td>1.511958</td>\n",
       "    </tr>\n",
       "  </tbody>\n",
       "</table>\n",
       "</div>"
      ],
      "text/plain": [
       "     Site       Date Sample type      Flow  Year  DRP_load   TP_load  \\\n",
       "31  Sub11 2016-03-31        Base  0.025511  2016  0.000026  0.007475   \n",
       "32  Sub11 2016-04-14        Base  0.041794  2016  0.000543  0.001672   \n",
       "33  Sub11 2016-04-28        Base  0.078278  2016  0.000078  0.010098   \n",
       "34  Sub11 2016-05-17        Base  0.064980  2016  0.000065  0.011501   \n",
       "35  Sub11 2016-05-17        Base  0.064980  2016  0.000065  0.011501   \n",
       "\n",
       "    TSS_load  NOx_load   TN_load  \n",
       "31  0.476207  0.900545  0.873909  \n",
       "32  0.083589  1.327621  1.327621  \n",
       "33  3.078926  2.388944  2.376592  \n",
       "34  4.115410  1.489898  1.511958  \n",
       "35  4.115410  1.489898  1.511958  "
      ]
     },
     "execution_count": 13,
     "metadata": {},
     "output_type": "execute_result"
    }
   ],
   "source": [
    "# calculate the analyte load by multiplying flow and concentration, then remove concentration column\n",
    "list_of_analytes = ['DRP', 'TP', 'TSS', 'NOx', 'TN']\n",
    "\n",
    "for x in list_of_analytes:\n",
    "    data_load[x + '_load'] = data_load['Flow'] * data_load[x]\n",
    "\n",
    "data_load = data_load.drop(columns=['DRP', 'TP', 'TSS', 'NOx', 'TN'])\n",
    "data_load.head()"
   ]
  },
  {
   "cell_type": "code",
   "execution_count": 14,
   "metadata": {},
   "outputs": [
    {
     "data": {
      "text/html": [
       "<div>\n",
       "<style scoped>\n",
       "    .dataframe tbody tr th:only-of-type {\n",
       "        vertical-align: middle;\n",
       "    }\n",
       "\n",
       "    .dataframe tbody tr th {\n",
       "        vertical-align: top;\n",
       "    }\n",
       "\n",
       "    .dataframe thead th {\n",
       "        text-align: right;\n",
       "    }\n",
       "</style>\n",
       "<table border=\"1\" class=\"dataframe\">\n",
       "  <thead>\n",
       "    <tr style=\"text-align: right;\">\n",
       "      <th></th>\n",
       "      <th></th>\n",
       "      <th></th>\n",
       "      <th>DRP_load</th>\n",
       "      <th>TP_load</th>\n",
       "      <th>TSS_load</th>\n",
       "      <th>NOx_load</th>\n",
       "      <th>TN_load</th>\n",
       "    </tr>\n",
       "    <tr>\n",
       "      <th>Site</th>\n",
       "      <th>Sample type</th>\n",
       "      <th>Year</th>\n",
       "      <th></th>\n",
       "      <th></th>\n",
       "      <th></th>\n",
       "      <th></th>\n",
       "      <th></th>\n",
       "    </tr>\n",
       "  </thead>\n",
       "  <tbody>\n",
       "    <tr>\n",
       "      <th rowspan=\"6\" valign=\"top\">Sub11</th>\n",
       "      <th rowspan=\"3\" valign=\"top\">Base</th>\n",
       "      <th>2016</th>\n",
       "      <td>0.001</td>\n",
       "      <td>0.049</td>\n",
       "      <td>13.788</td>\n",
       "      <td>11.713</td>\n",
       "      <td>11.634</td>\n",
       "    </tr>\n",
       "    <tr>\n",
       "      <th>2017</th>\n",
       "      <td>0.009</td>\n",
       "      <td>0.085</td>\n",
       "      <td>95.061</td>\n",
       "      <td>18.481</td>\n",
       "      <td>23.370</td>\n",
       "    </tr>\n",
       "    <tr>\n",
       "      <th>2018</th>\n",
       "      <td>0.008</td>\n",
       "      <td>0.108</td>\n",
       "      <td>62.558</td>\n",
       "      <td>15.134</td>\n",
       "      <td>15.662</td>\n",
       "    </tr>\n",
       "    <tr>\n",
       "      <th rowspan=\"3\" valign=\"top\">Event</th>\n",
       "      <th>2016</th>\n",
       "      <td>0.034</td>\n",
       "      <td>0.194</td>\n",
       "      <td>92.495</td>\n",
       "      <td>12.395</td>\n",
       "      <td>12.829</td>\n",
       "    </tr>\n",
       "    <tr>\n",
       "      <th>2017</th>\n",
       "      <td>0.008</td>\n",
       "      <td>0.203</td>\n",
       "      <td>243.393</td>\n",
       "      <td>14.354</td>\n",
       "      <td>22.553</td>\n",
       "    </tr>\n",
       "    <tr>\n",
       "      <th>2018</th>\n",
       "      <td>0.025</td>\n",
       "      <td>0.801</td>\n",
       "      <td>4335.160</td>\n",
       "      <td>21.798</td>\n",
       "      <td>27.300</td>\n",
       "    </tr>\n",
       "    <tr>\n",
       "      <th rowspan=\"6\" valign=\"top\">Sub12</th>\n",
       "      <th rowspan=\"3\" valign=\"top\">Base</th>\n",
       "      <th>2016</th>\n",
       "      <td>0.002</td>\n",
       "      <td>0.034</td>\n",
       "      <td>4.566</td>\n",
       "      <td>3.286</td>\n",
       "      <td>3.181</td>\n",
       "    </tr>\n",
       "    <tr>\n",
       "      <th>2017</th>\n",
       "      <td>0.016</td>\n",
       "      <td>0.051</td>\n",
       "      <td>21.460</td>\n",
       "      <td>5.721</td>\n",
       "      <td>7.088</td>\n",
       "    </tr>\n",
       "    <tr>\n",
       "      <th>2018</th>\n",
       "      <td>0.011</td>\n",
       "      <td>0.028</td>\n",
       "      <td>17.031</td>\n",
       "      <td>5.392</td>\n",
       "      <td>5.732</td>\n",
       "    </tr>\n",
       "    <tr>\n",
       "      <th rowspan=\"3\" valign=\"top\">Event</th>\n",
       "      <th>2016</th>\n",
       "      <td>0.036</td>\n",
       "      <td>0.129</td>\n",
       "      <td>28.761</td>\n",
       "      <td>8.130</td>\n",
       "      <td>8.524</td>\n",
       "    </tr>\n",
       "    <tr>\n",
       "      <th>2017</th>\n",
       "      <td>0.031</td>\n",
       "      <td>0.122</td>\n",
       "      <td>50.842</td>\n",
       "      <td>7.126</td>\n",
       "      <td>11.976</td>\n",
       "    </tr>\n",
       "    <tr>\n",
       "      <th>2018</th>\n",
       "      <td>0.195</td>\n",
       "      <td>1.202</td>\n",
       "      <td>1428.458</td>\n",
       "      <td>10.724</td>\n",
       "      <td>23.114</td>\n",
       "    </tr>\n",
       "  </tbody>\n",
       "</table>\n",
       "</div>"
      ],
      "text/plain": [
       "                        DRP_load  TP_load  TSS_load  NOx_load  TN_load\n",
       "Site  Sample type Year                                                \n",
       "Sub11 Base        2016     0.001    0.049    13.788    11.713   11.634\n",
       "                  2017     0.009    0.085    95.061    18.481   23.370\n",
       "                  2018     0.008    0.108    62.558    15.134   15.662\n",
       "      Event       2016     0.034    0.194    92.495    12.395   12.829\n",
       "                  2017     0.008    0.203   243.393    14.354   22.553\n",
       "                  2018     0.025    0.801  4335.160    21.798   27.300\n",
       "Sub12 Base        2016     0.002    0.034     4.566     3.286    3.181\n",
       "                  2017     0.016    0.051    21.460     5.721    7.088\n",
       "                  2018     0.011    0.028    17.031     5.392    5.732\n",
       "      Event       2016     0.036    0.129    28.761     8.130    8.524\n",
       "                  2017     0.031    0.122    50.842     7.126   11.976\n",
       "                  2018     0.195    1.202  1428.458    10.724   23.114"
      ]
     },
     "execution_count": 14,
     "metadata": {},
     "output_type": "execute_result"
    }
   ],
   "source": [
    "# calculate the annual load of all analytes\n",
    "data_load_summary = data_load.groupby(['Site', 'Sample type','Year'])['DRP_load','TP_load', 'TSS_load', 'NOx_load', 'TN_load'].sum()\n",
    "data_load_summary = data_load_summary.round(3)\n",
    "data_load_summary"
   ]
  },
  {
   "cell_type": "code",
   "execution_count": 15,
   "metadata": {},
   "outputs": [
    {
     "name": "stdout",
     "output_type": "stream",
     "text": [
      "<class 'pandas.core.frame.DataFrame'>\n",
      "DRP_load    float64\n",
      "TP_load     float64\n",
      "TSS_load    float64\n",
      "NOx_load    float64\n",
      "TN_load     float64\n",
      "dtype: object\n"
     ]
    }
   ],
   "source": [
    "print(type(data_load_summary))\n",
    "print(data_load_summary.dtypes)"
   ]
  },
  {
   "cell_type": "code",
   "execution_count": 16,
   "metadata": {},
   "outputs": [
    {
     "name": "stdout",
     "output_type": "stream",
     "text": [
      "Site            object\n",
      "Sample type     object\n",
      "Year             int64\n",
      "DRP_load       float64\n",
      "TP_load        float64\n",
      "TSS_load       float64\n",
      "NOx_load       float64\n",
      "TN_load        float64\n",
      "dtype: object\n"
     ]
    }
   ],
   "source": [
    "# convert pandas index into column value for plotting\n",
    "data_load_summary.reset_index(inplace=True)\n",
    "print(data_load_summary.dtypes)"
   ]
  },
  {
   "cell_type": "code",
   "execution_count": 23,
   "metadata": {},
   "outputs": [
    {
     "data": {
      "image/png": "[encoded data removed]",
      "text/plain": [
       "<Figure size 432x288 with 1 Axes>"
      ]
     },
     "metadata": {
      "needs_background": "light"
     },
     "output_type": "display_data"
    },
    {
     "data": {
      "image/png": "[encoded data removed]",
      "text/plain": [
       "<Figure size 432x288 with 1 Axes>"
      ]
     },
     "metadata": {
      "needs_background": "light"
     },
     "output_type": "display_data"
    },
    {
     "data": {
      "image/png": "[encoded data removed]",
      "text/plain": [
       "<Figure size 432x288 with 1 Axes>"
      ]
     },
     "metadata": {
      "needs_background": "light"
     },
     "output_type": "display_data"
    },
    {
     "data": {
      "image/png": "[encoded data removed]",
      "text/plain": [
       "<Figure size 432x288 with 1 Axes>"
      ]
     },
     "metadata": {
      "needs_background": "light"
     },
     "output_type": "display_data"
    },
    {
     "data": {
      "image/png": "[encoded data removed]",
      "text/plain": [
       "<Figure size 432x288 with 1 Axes>"
      ]
     },
     "metadata": {
      "needs_background": "light"
     },
     "output_type": "display_data"
    },
    {
     "data": {
      "image/png": "[encoded data removed]",
      "text/plain": [
       "<Figure size 432x288 with 1 Axes>"
      ]
     },
     "metadata": {
      "needs_background": "light"
     },
     "output_type": "display_data"
    },
    {
     "data": {
      "image/png": "[encoded data removed]",
      "text/plain": [
       "<Figure size 432x288 with 1 Axes>"
      ]
     },
     "metadata": {
      "needs_background": "light"
     },
     "output_type": "display_data"
    },
    {
     "data": {
      "image/png": "[encoded data removed]",
      "text/plain": [
       "<Figure size 432x288 with 1 Axes>"
      ]
     },
     "metadata": {
      "needs_background": "light"
     },
     "output_type": "display_data"
    },
    {
     "data": {
      "image/png": "[encoded data removed]",
      "text/plain": [
       "<Figure size 432x288 with 1 Axes>"
      ]
     },
     "metadata": {
      "needs_background": "light"
     },
     "output_type": "display_data"
    },
    {
     "data": {
      "image/png": "[encoded data removed]",
      "text/plain": [
       "<Figure size 432x288 with 1 Axes>"
      ]
     },
     "metadata": {
      "needs_background": "light"
     },
     "output_type": "display_data"
    }
   ],
   "source": [
    "load_base = data_load_summary[data_load_summary['Sample type']=='Base']\n",
    "load_event = data_load_summary[data_load_summary['Sample type']=='Event']\n",
    "\n",
    "list_of_analytes = ['DRP_load', 'TP_load', 'TSS_load', 'NOx_load', 'TN_load']\n",
    "for y in list_of_analytes:\n",
    "    base_plot = sns.barplot(x=\"Year\", y=y, hue='Site', data=load_base , palette = 'magma')\n",
    "    plt.title('Base flow samples')\n",
    "    plt.show()\n",
    "    event_plot = sns.barplot(x=\"Year\", y=y,  hue='Site', data=load_event, palette = 'magma')\n",
    "    plt.title('Event flow samples')\n",
    "    plt.show()\n",
    "\n",
    "# can add the save fig function later - to export fig into the website"
   ]
  },
  {
   "cell_type": "markdown",
   "metadata": {},
   "source": [
    "### Part 3B: Significant differences of mean (or median) between datasets\n",
    "- normality test\n",
    "- test for significant difference of analyte concentrations between base vs event samples at respective sites\n",
    "- test for significant difference of analyte concentrations of base OR event samples between sites"
   ]
  },
  {
   "cell_type": "code",
   "execution_count": 26,
   "metadata": {},
   "outputs": [
    {
     "data": {
      "text/html": [
       "<div>\n",
       "<style scoped>\n",
       "    .dataframe tbody tr th:only-of-type {\n",
       "        vertical-align: middle;\n",
       "    }\n",
       "\n",
       "    .dataframe tbody tr th {\n",
       "        vertical-align: top;\n",
       "    }\n",
       "\n",
       "    .dataframe thead th {\n",
       "        text-align: right;\n",
       "    }\n",
       "</style>\n",
       "<table border=\"1\" class=\"dataframe\">\n",
       "  <thead>\n",
       "    <tr style=\"text-align: right;\">\n",
       "      <th></th>\n",
       "      <th>Site</th>\n",
       "      <th>Date</th>\n",
       "      <th>Sample type</th>\n",
       "      <th>Flow</th>\n",
       "      <th>DRP</th>\n",
       "      <th>TP</th>\n",
       "      <th>TSS</th>\n",
       "      <th>NOx</th>\n",
       "      <th>TN</th>\n",
       "    </tr>\n",
       "  </thead>\n",
       "  <tbody>\n",
       "    <tr>\n",
       "      <th>111</th>\n",
       "      <td>Sub12</td>\n",
       "      <td>2015-03-20</td>\n",
       "      <td>Base</td>\n",
       "      <td>0.020</td>\n",
       "      <td>0.036</td>\n",
       "      <td>0.025</td>\n",
       "      <td>0.5</td>\n",
       "      <td>11.7</td>\n",
       "      <td>8.2</td>\n",
       "    </tr>\n",
       "    <tr>\n",
       "      <th>112</th>\n",
       "      <td>Sub12</td>\n",
       "      <td>2015-03-27</td>\n",
       "      <td>Base</td>\n",
       "      <td>0.015</td>\n",
       "      <td>0.024</td>\n",
       "      <td>0.016</td>\n",
       "      <td>0.5</td>\n",
       "      <td>11.5</td>\n",
       "      <td>9.2</td>\n",
       "    </tr>\n",
       "    <tr>\n",
       "      <th>113</th>\n",
       "      <td>Sub12</td>\n",
       "      <td>2015-04-03</td>\n",
       "      <td>Base</td>\n",
       "      <td>0.014</td>\n",
       "      <td>0.013</td>\n",
       "      <td>0.015</td>\n",
       "      <td>0.5</td>\n",
       "      <td>12.9</td>\n",
       "      <td>11.7</td>\n",
       "    </tr>\n",
       "    <tr>\n",
       "      <th>114</th>\n",
       "      <td>Sub12</td>\n",
       "      <td>2015-04-11</td>\n",
       "      <td>Base</td>\n",
       "      <td>0.032</td>\n",
       "      <td>0.031</td>\n",
       "      <td>0.055</td>\n",
       "      <td>0.5</td>\n",
       "      <td>13.0</td>\n",
       "      <td>11.7</td>\n",
       "    </tr>\n",
       "    <tr>\n",
       "      <th>115</th>\n",
       "      <td>Sub12</td>\n",
       "      <td>2015-04-17</td>\n",
       "      <td>Base</td>\n",
       "      <td>0.043</td>\n",
       "      <td>0.005</td>\n",
       "      <td>0.034</td>\n",
       "      <td>1.7</td>\n",
       "      <td>12.9</td>\n",
       "      <td>11.7</td>\n",
       "    </tr>\n",
       "  </tbody>\n",
       "</table>\n",
       "</div>"
      ],
      "text/plain": [
       "      Site       Date Sample type   Flow    DRP     TP  TSS   NOx    TN\n",
       "111  Sub12 2015-03-20        Base  0.020  0.036  0.025  0.5  11.7   8.2\n",
       "112  Sub12 2015-03-27        Base  0.015  0.024  0.016  0.5  11.5   9.2\n",
       "113  Sub12 2015-04-03        Base  0.014  0.013  0.015  0.5  12.9  11.7\n",
       "114  Sub12 2015-04-11        Base  0.032  0.031  0.055  0.5  13.0  11.7\n",
       "115  Sub12 2015-04-17        Base  0.043  0.005  0.034  1.7  12.9  11.7"
      ]
     },
     "execution_count": 26,
     "metadata": {},
     "output_type": "execute_result"
    }
   ],
   "source": [
    "# the main dataset was already separated into data_11 and data_12 above\n",
    "data_12.head()"
   ]
  },
  {
   "cell_type": "code",
   "execution_count": 108,
   "metadata": {},
   "outputs": [
    {
     "name": "stdout",
     "output_type": "stream",
     "text": [
      "\u001b[1mSub11: comparison of base vs event flow concentrations\u001b[0m\n",
      "WILCOXON RANK SUM TEST\n",
      "DRP: significanty different @ p =0.005\n",
      "WILCOXON RANK SUM TEST\n",
      "TP: significanty different @ p =0.0\n",
      "WILCOXON RANK SUM TEST\n",
      "TSS: significanty different @ p =0.0\n",
      "WILCOXON RANK SUM TEST\n",
      "NOx: NOT significanty different @ p =0.1\n",
      "WILCOXON RANK SUM TEST\n",
      "TN: NOT significanty different @ p =0.541\n",
      "\u001b[1mSub12: comparison of base vs event flow concentrations\u001b[0m\n",
      "WILCOXON RANK SUM TEST\n",
      "DRP: NOT significanty different @ p =0.072\n",
      "WILCOXON RANK SUM TEST\n",
      "TP: significanty different @ p =0.003\n",
      "WILCOXON RANK SUM TEST\n",
      "TSS: significanty different @ p =0.0\n",
      "WILCOXON RANK SUM TEST\n",
      "NOx: NOT significanty different @ p =0.34\n",
      "WILCOXON RANK SUM TEST\n",
      "TN: NOT significanty different @ p =0.721\n"
     ]
    }
   ],
   "source": [
    "# test for normality, then for significant difference of analyte concentrations between base vs event samples at respective sites\n",
    "# if not normal, use Wilcoxon rank sum; if normal, use t-test\n",
    "\n",
    "from scipy import stats\n",
    "from scipy.stats import ranksums\n",
    "class color:\n",
    "   PURPLE = '\\033[95m'\n",
    "   CYAN = '\\033[96m'\n",
    "   DARKCYAN = '\\033[36m'\n",
    "   BLUE = '\\033[94m'\n",
    "   GREEN = '\\033[92m'\n",
    "   YELLOW = '\\033[93m'\n",
    "   RED = '\\033[91m'\n",
    "   BOLD = '\\033[1m'\n",
    "   UNDERLINE = '\\033[4m'\n",
    "   END = '\\033[0m'\n",
    "\n",
    "\n",
    "alpha = 0.05   #alpha value for shapiro and t-test/Wilcoxon\n",
    "list_of_dataset = [data_11, data_12]\n",
    "data_11.name = 'Sub11'\n",
    "data_12.name = 'Sub12'\n",
    "list_of_analytes = ['DRP', 'TP', 'TSS', 'NOx', 'TN']\n",
    "\n",
    "for m in list_of_dataset:\n",
    "    print(color.BOLD + m.name + ': comparison of base vs event flow concentrations' + color.END)\n",
    "    dataset_base = m[m['Sample type']=='Base']\n",
    "    dataset_event = m[m['Sample type']=='Event']\n",
    "    \n",
    "    for n in list_of_analytes:\n",
    "        analyte_base = dataset_base[n]\n",
    "        analyte_event = dataset_event[n]\n",
    "        norm_base = stats.shapiro(analyte_base)\n",
    "        norm_event = stats.shapiro(analyte_event)\n",
    "        \n",
    "        if norm_base[1] <= alpha or norm_event[1] <=alpha: #i.e. data is not normal\n",
    "            print('WILCOXON RANK SUM TEST')\n",
    "            w, p = ranksums(analyte_base, analyte_event)\n",
    "            if p <= 0.05:\n",
    "                p = round(p, 3)\n",
    "                print(n + ': significanty different @ p =' + str(p))\n",
    "            elif p > 0.05:\n",
    "                p = round(p, 3)\n",
    "                print(n + ': NOT significanty different @ p =' + str(p))\n",
    "        elif norm_base[1] > alpha or norm_event[1] > alpha:\n",
    "            print('T-TEST')\n",
    "            t, p = stats.ttest_ind(analyte_base, analyte_event)\n",
    "            if p <= 0.05:\n",
    "                p = round(p, 3)\n",
    "                print(n + ': significanty different @ p =' + str(p))\n",
    "            elif p > 0.05:\n",
    "                p = round(p, 3)\n",
    "                print(n + ': NOT significanty different @ p =' + str(p))        \n"
   ]
  },
  {
   "cell_type": "code",
   "execution_count": 97,
   "metadata": {},
   "outputs": [
    {
     "data": {
      "text/html": [
       "<div>\n",
       "<style scoped>\n",
       "    .dataframe tbody tr th:only-of-type {\n",
       "        vertical-align: middle;\n",
       "    }\n",
       "\n",
       "    .dataframe tbody tr th {\n",
       "        vertical-align: top;\n",
       "    }\n",
       "\n",
       "    .dataframe thead th {\n",
       "        text-align: right;\n",
       "    }\n",
       "</style>\n",
       "<table border=\"1\" class=\"dataframe\">\n",
       "  <thead>\n",
       "    <tr style=\"text-align: right;\">\n",
       "      <th></th>\n",
       "      <th>Site</th>\n",
       "      <th>Date</th>\n",
       "      <th>Sample type</th>\n",
       "      <th>Flow</th>\n",
       "      <th>DRP</th>\n",
       "      <th>TP</th>\n",
       "      <th>TSS</th>\n",
       "      <th>NOx</th>\n",
       "      <th>TN</th>\n",
       "      <th>Year</th>\n",
       "    </tr>\n",
       "  </thead>\n",
       "  <tbody>\n",
       "    <tr>\n",
       "      <th>82</th>\n",
       "      <td>Sub11</td>\n",
       "      <td>2015-05-19</td>\n",
       "      <td>Event</td>\n",
       "      <td>0.028210</td>\n",
       "      <td>0.018</td>\n",
       "      <td>0.0015</td>\n",
       "      <td>22.333667</td>\n",
       "      <td>45.3700</td>\n",
       "      <td>41.0</td>\n",
       "      <td>2015</td>\n",
       "    </tr>\n",
       "    <tr>\n",
       "      <th>83</th>\n",
       "      <td>Sub11</td>\n",
       "      <td>2015-06-16</td>\n",
       "      <td>Event</td>\n",
       "      <td>0.189993</td>\n",
       "      <td>0.027</td>\n",
       "      <td>0.1770</td>\n",
       "      <td>1006.666667</td>\n",
       "      <td>31.3574</td>\n",
       "      <td>47.0</td>\n",
       "      <td>2015</td>\n",
       "    </tr>\n",
       "    <tr>\n",
       "      <th>84</th>\n",
       "      <td>Sub11</td>\n",
       "      <td>2015-06-30</td>\n",
       "      <td>Event</td>\n",
       "      <td>1.296460</td>\n",
       "      <td>0.203</td>\n",
       "      <td>1.2590</td>\n",
       "      <td>1338.666667</td>\n",
       "      <td>32.0861</td>\n",
       "      <td>31.2</td>\n",
       "      <td>2015</td>\n",
       "    </tr>\n",
       "    <tr>\n",
       "      <th>85</th>\n",
       "      <td>Sub11</td>\n",
       "      <td>2015-08-18</td>\n",
       "      <td>Event</td>\n",
       "      <td>0.131722</td>\n",
       "      <td>0.050</td>\n",
       "      <td>1.3280</td>\n",
       "      <td>2026.000000</td>\n",
       "      <td>33.4932</td>\n",
       "      <td>39.0</td>\n",
       "      <td>2015</td>\n",
       "    </tr>\n",
       "    <tr>\n",
       "      <th>86</th>\n",
       "      <td>Sub11</td>\n",
       "      <td>2015-08-25</td>\n",
       "      <td>Event</td>\n",
       "      <td>0.120204</td>\n",
       "      <td>0.010</td>\n",
       "      <td>3.1180</td>\n",
       "      <td>1722.000000</td>\n",
       "      <td>35.0250</td>\n",
       "      <td>37.8</td>\n",
       "      <td>2015</td>\n",
       "    </tr>\n",
       "  </tbody>\n",
       "</table>\n",
       "</div>"
      ],
      "text/plain": [
       "     Site       Date Sample type      Flow    DRP      TP          TSS  \\\n",
       "82  Sub11 2015-05-19       Event  0.028210  0.018  0.0015    22.333667   \n",
       "83  Sub11 2015-06-16       Event  0.189993  0.027  0.1770  1006.666667   \n",
       "84  Sub11 2015-06-30       Event  1.296460  0.203  1.2590  1338.666667   \n",
       "85  Sub11 2015-08-18       Event  0.131722  0.050  1.3280  2026.000000   \n",
       "86  Sub11 2015-08-25       Event  0.120204  0.010  3.1180  1722.000000   \n",
       "\n",
       "        NOx    TN  Year  \n",
       "82  45.3700  41.0  2015  \n",
       "83  31.3574  47.0  2015  \n",
       "84  32.0861  31.2  2015  \n",
       "85  33.4932  39.0  2015  \n",
       "86  35.0250  37.8  2015  "
      ]
     },
     "execution_count": 97,
     "metadata": {},
     "output_type": "execute_result"
    }
   ],
   "source": [
    "# separate the main dataset into \"base\" and \"event\" dataset\n",
    "\n",
    "data_base = data[data['Sample type']=='Base']\n",
    "data_event = data[data['Sample type']=='Event']\n",
    "data_event.head()"
   ]
  },
  {
   "cell_type": "code",
   "execution_count": 107,
   "metadata": {},
   "outputs": [
    {
     "name": "stdout",
     "output_type": "stream",
     "text": [
      "\u001b[1mBase: comparison of analyte concentrations between sites\u001b[0m\n",
      "WILCOXON RANK SUM TEST\n",
      "DRP: significanty different @ p =0.015\n",
      "WILCOXON RANK SUM TEST\n",
      "TP: NOT significanty different @ p =0.78\n",
      "WILCOXON RANK SUM TEST\n",
      "TSS: significanty different @ p =0.0\n",
      "WILCOXON RANK SUM TEST\n",
      "NOx: significanty different @ p =0.0\n",
      "WILCOXON RANK SUM TEST\n",
      "TN: significanty different @ p =0.0\n",
      "\u001b[1mEvent: comparison of analyte concentrations between sites\u001b[0m\n",
      "WILCOXON RANK SUM TEST\n",
      "DRP: NOT significanty different @ p =0.797\n",
      "WILCOXON RANK SUM TEST\n",
      "TP: significanty different @ p =0.002\n",
      "WILCOXON RANK SUM TEST\n",
      "TSS: significanty different @ p =0.0\n",
      "T-TEST\n",
      "NOx: significanty different @ p =0.0\n",
      "WILCOXON RANK SUM TEST\n",
      "TN: significanty different @ p =0.0\n"
     ]
    }
   ],
   "source": [
    "# test for normality, then for significant difference of analyte concentrations of base vs event samples between sites\n",
    "# if not normal, use Wilcoxon rank sum; if normal, use t-test\n",
    "\n",
    "from scipy import stats\n",
    "from scipy.stats import ranksums\n",
    "class color:\n",
    "   PURPLE = '\\033[95m'\n",
    "   CYAN = '\\033[96m'\n",
    "   DARKCYAN = '\\033[36m'\n",
    "   BLUE = '\\033[94m'\n",
    "   GREEN = '\\033[92m'\n",
    "   YELLOW = '\\033[93m'\n",
    "   RED = '\\033[91m'\n",
    "   BOLD = '\\033[1m'\n",
    "   UNDERLINE = '\\033[4m'\n",
    "   END = '\\033[0m'\n",
    "\n",
    "\n",
    "alpha = 0.05   #alpha value for shapiro and t-test/Wilcoxon\n",
    "list_of_dataset = [data_base, data_event]\n",
    "data_base.name = 'Base'\n",
    "data_event.name = 'Event'\n",
    "list_of_analytes = ['DRP', 'TP', 'TSS', 'NOx', 'TN']\n",
    "\n",
    "for m in list_of_dataset:\n",
    "    print(color.BOLD + m.name + ': comparison of analyte concentrations between sites' + color.END)\n",
    "    dataset_11 = m[m['Site']=='Sub11']\n",
    "    dataset_12 = m[m['Site']=='Sub12']\n",
    "    \n",
    "    for n in list_of_analytes:\n",
    "        analyte_11 = dataset_11[n]\n",
    "        analyte_12 = dataset_12[n]\n",
    "        norm_11 = stats.shapiro(analyte_11)\n",
    "        norm_12 = stats.shapiro(analyte_12)\n",
    "        \n",
    "        if norm_11[1] <= alpha or norm_12[1] <=alpha: #i.e. data is not normal\n",
    "            print('WILCOXON RANK SUM TEST')\n",
    "            w, p = ranksums(analyte_11, analyte_12)\n",
    "            if p <= 0.05:\n",
    "                p = round(p, 3)\n",
    "                print(n + ': significanty different @ p =' + str(p))\n",
    "            elif p > 0.05:\n",
    "                p = round(p, 3)\n",
    "                print(n + ': NOT significanty different @ p =' + str(p))\n",
    "        elif norm_11[1] > alpha or norm_12[1] > alpha:\n",
    "            print('T-TEST')\n",
    "            t, p = stats.ttest_ind(analyte_11, analyte_12)\n",
    "            if p <= 0.05:\n",
    "                p = round(p, 3)\n",
    "                print(n + ': significanty different @ p =' + str(p))\n",
    "            elif p > 0.05:\n",
    "                p = round(p, 3)\n",
    "                print(n + ': NOT significanty different @ p =' + str(p))     "
   ]
  },
  {
   "cell_type": "code",
   "execution_count": 110,
   "metadata": {},
   "outputs": [
    {
     "data": {
      "text/html": [
       "<div>\n",
       "<style scoped>\n",
       "    .dataframe tbody tr th:only-of-type {\n",
       "        vertical-align: middle;\n",
       "    }\n",
       "\n",
       "    .dataframe tbody tr th {\n",
       "        vertical-align: top;\n",
       "    }\n",
       "\n",
       "    .dataframe thead th {\n",
       "        text-align: right;\n",
       "    }\n",
       "</style>\n",
       "<table border=\"1\" class=\"dataframe\">\n",
       "  <thead>\n",
       "    <tr style=\"text-align: right;\">\n",
       "      <th></th>\n",
       "      <th></th>\n",
       "      <th>DRP</th>\n",
       "      <th>TP</th>\n",
       "      <th>TSS</th>\n",
       "      <th>NOx</th>\n",
       "      <th>TN</th>\n",
       "    </tr>\n",
       "    <tr>\n",
       "      <th>Site</th>\n",
       "      <th>Sample type</th>\n",
       "      <th></th>\n",
       "      <th></th>\n",
       "      <th></th>\n",
       "      <th></th>\n",
       "      <th></th>\n",
       "    </tr>\n",
       "  </thead>\n",
       "  <tbody>\n",
       "    <tr>\n",
       "      <th rowspan=\"2\" valign=\"top\">Sub11</th>\n",
       "      <th>Base</th>\n",
       "      <td>0.014</td>\n",
       "      <td>0.124</td>\n",
       "      <td>80.035</td>\n",
       "      <td>29.645</td>\n",
       "      <td>30.689</td>\n",
       "    </tr>\n",
       "    <tr>\n",
       "      <th>Event</th>\n",
       "      <td>0.030</td>\n",
       "      <td>0.561</td>\n",
       "      <td>1292.868</td>\n",
       "      <td>24.575</td>\n",
       "      <td>28.723</td>\n",
       "    </tr>\n",
       "    <tr>\n",
       "      <th rowspan=\"2\" valign=\"top\">Sub12</th>\n",
       "      <th>Base</th>\n",
       "      <td>0.022</td>\n",
       "      <td>0.082</td>\n",
       "      <td>18.591</td>\n",
       "      <td>9.000</td>\n",
       "      <td>9.409</td>\n",
       "    </tr>\n",
       "    <tr>\n",
       "      <th>Event</th>\n",
       "      <td>0.040</td>\n",
       "      <td>0.148</td>\n",
       "      <td>89.412</td>\n",
       "      <td>8.248</td>\n",
       "      <td>9.831</td>\n",
       "    </tr>\n",
       "  </tbody>\n",
       "</table>\n",
       "</div>"
      ],
      "text/plain": [
       "                     DRP     TP       TSS     NOx      TN\n",
       "Site  Sample type                                        \n",
       "Sub11 Base         0.014  0.124    80.035  29.645  30.689\n",
       "      Event        0.030  0.561  1292.868  24.575  28.723\n",
       "Sub12 Base         0.022  0.082    18.591   9.000   9.409\n",
       "      Event        0.040  0.148    89.412   8.248   9.831"
      ]
     },
     "execution_count": 110,
     "metadata": {},
     "output_type": "execute_result"
    }
   ],
   "source": [
    "# the outputs above will only tell you the datasets were significant different or not\n",
    "# if significant, the table below will tell you if one dataset is higher or lower than the other\n",
    "# refer to mean if the t-test was used (as the test compares mean)\n",
    "data_mean = data.groupby(['Site', 'Sample type'])['DRP','TP', 'TSS', 'NOx', 'TN'].mean()\n",
    "data_mean = data_mean.round(3)\n",
    "data_mean"
   ]
  },
  {
   "cell_type": "code",
   "execution_count": 109,
   "metadata": {},
   "outputs": [
    {
     "data": {
      "text/html": [
       "<div>\n",
       "<style scoped>\n",
       "    .dataframe tbody tr th:only-of-type {\n",
       "        vertical-align: middle;\n",
       "    }\n",
       "\n",
       "    .dataframe tbody tr th {\n",
       "        vertical-align: top;\n",
       "    }\n",
       "\n",
       "    .dataframe thead th {\n",
       "        text-align: right;\n",
       "    }\n",
       "</style>\n",
       "<table border=\"1\" class=\"dataframe\">\n",
       "  <thead>\n",
       "    <tr style=\"text-align: right;\">\n",
       "      <th></th>\n",
       "      <th></th>\n",
       "      <th>DRP</th>\n",
       "      <th>TP</th>\n",
       "      <th>TSS</th>\n",
       "      <th>NOx</th>\n",
       "      <th>TN</th>\n",
       "    </tr>\n",
       "    <tr>\n",
       "      <th>Site</th>\n",
       "      <th>Sample type</th>\n",
       "      <th></th>\n",
       "      <th></th>\n",
       "      <th></th>\n",
       "      <th></th>\n",
       "      <th></th>\n",
       "    </tr>\n",
       "  </thead>\n",
       "  <tbody>\n",
       "    <tr>\n",
       "      <th rowspan=\"2\" valign=\"top\">Sub11</th>\n",
       "      <th>Base</th>\n",
       "      <td>0.003</td>\n",
       "      <td>0.035</td>\n",
       "      <td>15.767</td>\n",
       "      <td>26.907</td>\n",
       "      <td>29.000</td>\n",
       "    </tr>\n",
       "    <tr>\n",
       "      <th>Event</th>\n",
       "      <td>0.014</td>\n",
       "      <td>0.241</td>\n",
       "      <td>148.000</td>\n",
       "      <td>25.088</td>\n",
       "      <td>28.686</td>\n",
       "    </tr>\n",
       "    <tr>\n",
       "      <th rowspan=\"2\" valign=\"top\">Sub12</th>\n",
       "      <th>Base</th>\n",
       "      <td>0.007</td>\n",
       "      <td>0.034</td>\n",
       "      <td>7.200</td>\n",
       "      <td>8.800</td>\n",
       "      <td>9.100</td>\n",
       "    </tr>\n",
       "    <tr>\n",
       "      <th>Event</th>\n",
       "      <td>0.016</td>\n",
       "      <td>0.063</td>\n",
       "      <td>18.550</td>\n",
       "      <td>8.600</td>\n",
       "      <td>9.350</td>\n",
       "    </tr>\n",
       "  </tbody>\n",
       "</table>\n",
       "</div>"
      ],
      "text/plain": [
       "                     DRP     TP      TSS     NOx      TN\n",
       "Site  Sample type                                       \n",
       "Sub11 Base         0.003  0.035   15.767  26.907  29.000\n",
       "      Event        0.014  0.241  148.000  25.088  28.686\n",
       "Sub12 Base         0.007  0.034    7.200   8.800   9.100\n",
       "      Event        0.016  0.063   18.550   8.600   9.350"
      ]
     },
     "execution_count": 109,
     "metadata": {},
     "output_type": "execute_result"
    }
   ],
   "source": [
    "# refer to median if the t-test was used (as the test compares median)\n",
    "data_median = data.groupby(['Site', 'Sample type'])['DRP','TP', 'TSS', 'NOx', 'TN'].median()\n",
    "data_median = data_median.round(3)\n",
    "data_median"
   ]
  },
  {
   "cell_type": "markdown",
   "metadata": {},
   "source": [
    "### Part 3C: Correlations between auxiliary parameter and analyte concentrations\n",
    "- PCA analysis to see if we can eliminate any \"useless\" auxiliary parameters\n",
    "- normality test\n",
    "- test for correlation between analyte concentration and flow\n",
    "- test for correlation between analyte concentration and precipitation\n",
    "- test for correlation between analyte concentration and temperature"
   ]
  },
  {
   "cell_type": "code",
   "execution_count": null,
   "metadata": {},
   "outputs": [],
   "source": []
  }
 ],
 "metadata": {
  "kernelspec": {
   "display_name": "Python 3",
   "language": "python",
   "name": "python3"
  },
  "language_info": {
   "codemirror_mode": {
    "name": "ipython",
    "version": 3
   },
   "file_extension": ".py",
   "mimetype": "text/x-python",
   "name": "python",
   "nbconvert_exporter": "python",
   "pygments_lexer": "ipython3",
   "version": "3.7.3"
  }
 },
 "nbformat": 4,
 "nbformat_minor": 2
}
